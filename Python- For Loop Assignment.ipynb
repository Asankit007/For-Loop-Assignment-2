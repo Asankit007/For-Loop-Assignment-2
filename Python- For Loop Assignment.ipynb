{
 "cells": [
  {
   "cell_type": "markdown",
   "id": "285e4487-42be-4443-9e98-ad9bad8480e7",
   "metadata": {},
   "source": [
    "Basic Level\n"
   ]
  },
  {
   "cell_type": "code",
   "execution_count": 1,
   "id": "49d29add-dd36-4c19-ae00-5cb2ac5d6347",
   "metadata": {},
   "outputs": [],
   "source": [
    "## SOLUTION NO - 1"
   ]
  },
  {
   "cell_type": "code",
   "execution_count": 2,
   "id": "d00ee618-2fd7-47a0-be2b-01cd4c90127c",
   "metadata": {},
   "outputs": [
    {
     "name": "stdout",
     "output_type": "stream",
     "text": [
      "1\n",
      "2\n",
      "3\n",
      "4\n",
      "5\n",
      "6\n",
      "7\n",
      "8\n",
      "9\n",
      "10\n"
     ]
    }
   ],
   "source": [
    "\n",
    "for i in range(1, 11):\n",
    "    # Printing the current number\n",
    "    print(i)\n"
   ]
  },
  {
   "cell_type": "code",
   "execution_count": 3,
   "id": "40b187fd-c9a8-4ca6-bbca-f7e1ca5642ac",
   "metadata": {},
   "outputs": [],
   "source": [
    "## SOLUTION NO - 2"
   ]
  },
  {
   "cell_type": "code",
   "execution_count": 4,
   "id": "031b82a1-a691-4c55-81a9-ca78f13c21d9",
   "metadata": {},
   "outputs": [
    {
     "name": "stdout",
     "output_type": "stream",
     "text": [
      "The sum of all numbers in the list is: 150\n"
     ]
    }
   ],
   "source": [
    "# Define a list of numbers\n",
    "numbers = [10, 20, 30, 40, 50]\n",
    "\n",
    "total = 0\n",
    "for num in numbers:\n",
    "    # Add the current number to the total sum\n",
    "    total += num\n",
    "\n",
    "# Print the total sum\n",
    "print(\"The sum of all numbers in the list is:\", total)\n"
   ]
  },
  {
   "cell_type": "code",
   "execution_count": 5,
   "id": "824b9cd3-30c6-497a-bcef-69541ee3fe36",
   "metadata": {},
   "outputs": [],
   "source": [
    "## SOLUTION NO - 3"
   ]
  },
  {
   "cell_type": "code",
   "execution_count": 6,
   "id": "c39d02c4-f1c9-451e-bb08-78b32dc2fcce",
   "metadata": {},
   "outputs": [
    {
     "name": "stdout",
     "output_type": "stream",
     "text": [
      "!dlrow ,olleH"
     ]
    }
   ],
   "source": [
    "# Define a string\n",
    "string = \"Hello, world!\"\n",
    "\n",
    "\n",
    "for char in reversed(string):\n",
    "    # Print the current character\n",
    "    print(char, end=\"\")\n",
    "\n",
    "# Output: \"!dlrow ,olleH\"\n"
   ]
  },
  {
   "cell_type": "code",
   "execution_count": 7,
   "id": "ec19e54b-2786-4fc5-8c5f-6a7d9cf77ac4",
   "metadata": {},
   "outputs": [],
   "source": [
    "## SOLUTION NO - 4"
   ]
  },
  {
   "cell_type": "code",
   "execution_count": 8,
   "id": "21957fc3-6590-436d-a3be-e33f09ddd667",
   "metadata": {},
   "outputs": [
    {
     "name": "stdin",
     "output_type": "stream",
     "text": [
      "Enter a number:  4\n"
     ]
    },
    {
     "name": "stdout",
     "output_type": "stream",
     "text": [
      "The factorial of 4 is: 24\n"
     ]
    }
   ],
   "source": [
    "# Input the number for which you want to calculate the factorial\n",
    "number = int(input(\"Enter a number: \"))\n",
    "\n",
    "# Initialize the factorial value to 1\n",
    "fact = 1\n",
    "\n",
    "\n",
    "for i in range(1, number + 1):\n",
    "    # Multiply the current result by the current number i\n",
    "    fact *= i\n",
    "\n",
    "# Print the factorial of the input number\n",
    "print(\"The factorial of\", number, \"is:\", fact)\n"
   ]
  },
  {
   "cell_type": "code",
   "execution_count": 9,
   "id": "a1a9fa06-2420-4ac9-8e81-c4e5b605f69a",
   "metadata": {},
   "outputs": [],
   "source": [
    "## SOLUTION NO - 5"
   ]
  },
  {
   "cell_type": "code",
   "execution_count": 15,
   "id": "3534a4ee-af46-4f5f-a819-47bcfbcab7ab",
   "metadata": {},
   "outputs": [
    {
     "name": "stdin",
     "output_type": "stream",
     "text": [
      "Enter a number:  4\n"
     ]
    },
    {
     "name": "stdout",
     "output_type": "stream",
     "text": [
      "4 x 1 = 4\n",
      "4 x 2 = 8\n",
      "4 x 3 = 12\n",
      "4 x 4 = 16\n",
      "4 x 5 = 20\n",
      "4 x 6 = 24\n",
      "4 x 7 = 28\n",
      "4 x 8 = 32\n",
      "4 x 9 = 36\n",
      "4 x 10 = 40\n"
     ]
    }
   ],
   "source": [
    "# Input the number for which you want to print the multiplication table\n",
    "number = int(input(\"Enter a number: \"))\n",
    "\n",
    "# Using a for loop to print the multiplication table\n",
    "for i in range(1, 11):\n",
    "    print(number, \"x\", i, \"=\", number * i)\n"
   ]
  },
  {
   "cell_type": "code",
   "execution_count": 10,
   "id": "d0202b21-8b33-490a-a0e6-0fe511a810cd",
   "metadata": {},
   "outputs": [],
   "source": [
    "## SOLUTION NO - 6"
   ]
  },
  {
   "cell_type": "code",
   "execution_count": 16,
   "id": "777fea05-04a7-4c61-ab56-480b791a5c54",
   "metadata": {},
   "outputs": [
    {
     "name": "stdout",
     "output_type": "stream",
     "text": [
      "Number of even numbers: 4\n",
      "Number of odd numbers: 5\n"
     ]
    }
   ],
   "source": [
    "# Define a list of numbers\n",
    "numbers = [1, 2, 3, 4, 5, 6, 7, 8, 9]\n",
    "\n",
    "# Initialize counters for even and odd numbers\n",
    "even_count = 0\n",
    "odd_count = 0\n",
    "\n",
    "# Using a for loop to iterate over each number in the list\n",
    "for num in numbers:\n",
    "    if num % 2 == 0:\n",
    "        even_count += 1\n",
    "    else:\n",
    "        odd_count += 1\n",
    "\n",
    "# Print the counts of even and odd numbers\n",
    "print(\"Number of even numbers:\", even_count)\n",
    "print(\"Number of odd numbers:\", odd_count)\n"
   ]
  },
  {
   "cell_type": "code",
   "execution_count": 17,
   "id": "e0b23005-4dbb-4148-9b51-6f66f3628c27",
   "metadata": {},
   "outputs": [],
   "source": [
    "## SOLUTION NO - 7"
   ]
  },
  {
   "cell_type": "code",
   "execution_count": 18,
   "id": "1cf2fdd1-eb51-49b2-b9c2-d42cd3931c81",
   "metadata": {},
   "outputs": [
    {
     "name": "stdout",
     "output_type": "stream",
     "text": [
      "Square of 1 is: 1\n",
      "Square of 2 is: 4\n",
      "Square of 3 is: 9\n",
      "Square of 4 is: 16\n",
      "Square of 5 is: 25\n"
     ]
    }
   ],
   "source": [
    "# Using a for loop to print the squares of numbers from 1 to 5\n",
    "for i in range(1, 6):\n",
    "    print(\"Square of\", i, \"is:\", i ** 2)\n"
   ]
  },
  {
   "cell_type": "code",
   "execution_count": 12,
   "id": "9bfe2e2c-5c44-4eb6-b6cf-558e092775a8",
   "metadata": {},
   "outputs": [],
   "source": [
    "## SOLUTION NO - 8"
   ]
  },
  {
   "cell_type": "code",
   "execution_count": 19,
   "id": "ec8cf03d-4b92-42f7-81bc-d4f21ae7d2cb",
   "metadata": {},
   "outputs": [
    {
     "name": "stdout",
     "output_type": "stream",
     "text": [
      "Length of the string is: 13\n"
     ]
    }
   ],
   "source": [
    "# Define a string\n",
    "string = \"Hello, world!\"\n",
    "\n",
    "# Initialize a counter for the length of the string\n",
    "length = 0\n",
    "\n",
    "# Using a for loop to iterate over each character in the string\n",
    "for char in string:\n",
    "    length += 1\n",
    "\n",
    "# Print the length of the string\n",
    "print(\"Length of the string is:\", length)\n"
   ]
  },
  {
   "cell_type": "code",
   "execution_count": 13,
   "id": "2d3ebde3-d5c3-4b10-8b36-4f0874362df5",
   "metadata": {},
   "outputs": [],
   "source": [
    "## SOLUTION NO - 9"
   ]
  },
  {
   "cell_type": "code",
   "execution_count": 20,
   "id": "cff13828-ba63-4666-8d06-fcae30c01cda",
   "metadata": {},
   "outputs": [
    {
     "name": "stdout",
     "output_type": "stream",
     "text": [
      "Average of the numbers is: 30.0\n"
     ]
    }
   ],
   "source": [
    "# Define a list of numbers\n",
    "numbers = [10, 20, 30, 40, 50]\n",
    "\n",
    "# Initialize variables for total sum and count of numbers\n",
    "total = 0\n",
    "count = 0\n",
    "\n",
    "\n",
    "for num in numbers:\n",
    "    total += num\n",
    "    count += 1\n",
    "\n",
    "# Calculate and print the average of the numbers\n",
    "average = total / count\n",
    "print(\"Average of the numbers is:\", average)\n"
   ]
  },
  {
   "cell_type": "code",
   "execution_count": 14,
   "id": "a7a73c37-c848-4f9a-b607-38c61755ee91",
   "metadata": {},
   "outputs": [],
   "source": [
    "## SOLUTION NO - 10"
   ]
  },
  {
   "cell_type": "code",
   "execution_count": 21,
   "id": "31afe76b-bfec-4b36-b0da-1ce7d1924521",
   "metadata": {},
   "outputs": [
    {
     "name": "stdin",
     "output_type": "stream",
     "text": [
      "Enter the value of n:  5\n"
     ]
    },
    {
     "name": "stdout",
     "output_type": "stream",
     "text": [
      "0 1 1 2 3 "
     ]
    }
   ],
   "source": [
    "# Input the value of n\n",
    "n = int(input(\"Enter the value of n: \"))\n",
    "\n",
    "# Initialize the first two numbers of the Fibonacci sequence\n",
    "a, b = 0, 1\n",
    "\n",
    "# Using a for loop to print the first n Fibonacci numbers\n",
    "for _ in range(n):\n",
    "    print(a, end=\" \")\n",
    "    a, b = b, a + b\n"
   ]
  },
  {
   "cell_type": "markdown",
   "id": "69a1526e-4b8f-4d04-a84c-fde63d206074",
   "metadata": {},
   "source": [
    "Intermediate Level:"
   ]
  },
  {
   "cell_type": "code",
   "execution_count": 23,
   "id": "a81fbe2a-d01a-4531-a32a-2f107f8a7f86",
   "metadata": {},
   "outputs": [],
   "source": [
    "## SOLUTION NO - 11"
   ]
  },
  {
   "cell_type": "code",
   "execution_count": 33,
   "id": "b848dcaa-07d3-422c-9e90-a35572b16562",
   "metadata": {},
   "outputs": [
    {
     "name": "stdout",
     "output_type": "stream",
     "text": [
      "The list contains duplicates.\n"
     ]
    }
   ],
   "source": [
    "# Define a list\n",
    "numbers = [1, 2, 3, 4, 5, 6, 7, 8, 8, 9]\n",
    "\n",
    "\n",
    "has_duplicates = False\n",
    "\n",
    "\n",
    "for i in range(len(numbers)):\n",
    "    for j in range(i + 1, len(numbers)):\n",
    "        if numbers[i] == numbers[j]:\n",
    "            has_duplicates = True\n",
    "            break\n",
    "\n",
    "# Check if duplicates were found and print the result\n",
    "if has_duplicates:\n",
    "    print(\"The list contains duplicates.\")\n",
    "else:\n",
    "    print(\"The list does not contain duplicates.\")\n"
   ]
  },
  {
   "cell_type": "code",
   "execution_count": 24,
   "id": "7cc54259-261c-45e7-b159-98404f0e2247",
   "metadata": {},
   "outputs": [],
   "source": [
    "## SOLUTION NO - 12"
   ]
  },
  {
   "cell_type": "code",
   "execution_count": 34,
   "id": "030bd869-7346-44cc-8fb4-f171d6be7dc2",
   "metadata": {},
   "outputs": [
    {
     "name": "stdout",
     "output_type": "stream",
     "text": [
      "11 13 17 19 23 29 31 37 41 43 47 "
     ]
    }
   ],
   "source": [
    "# Define the range\n",
    "start = 10\n",
    "end = 50\n",
    "\n",
    "# Using a for loop to iterate over each number in the range\n",
    "for num in range(start, end + 1):\n",
    "    if num > 1:\n",
    "        for i in range(2, num):\n",
    "            if (num % i) == 0:\n",
    "                break\n",
    "        else:\n",
    "            print(num, end=\" \")\n"
   ]
  },
  {
   "cell_type": "code",
   "execution_count": 25,
   "id": "efd4518f-4859-44b7-b411-4d9ccdfe491b",
   "metadata": {},
   "outputs": [],
   "source": [
    "## SOLUTION NO - 13"
   ]
  },
  {
   "cell_type": "code",
   "execution_count": 35,
   "id": "40f5a59a-7865-47ac-9c51-17fb5235b984",
   "metadata": {},
   "outputs": [
    {
     "name": "stdout",
     "output_type": "stream",
     "text": [
      "Number of vowels: 3\n"
     ]
    }
   ],
   "source": [
    "# Define a string\n",
    "string = \"Hello, world!\"\n",
    "\n",
    "# Initialize a counter for vowels\n",
    "vowel_count = 0\n",
    "\n",
    "# Define vowels\n",
    "vowels = \"aeiouAEIOU\"\n",
    "\n",
    "# Using a for loop to iterate over each character in the string\n",
    "for char in string:\n",
    "    if char in vowels:\n",
    "        vowel_count += 1\n",
    "\n",
    "# Print the count of vowels\n",
    "print(\"Number of vowels:\", vowel_count)\n"
   ]
  },
  {
   "cell_type": "code",
   "execution_count": 26,
   "id": "78e59d4c-6382-4d1a-ae91-47549d86d23c",
   "metadata": {},
   "outputs": [],
   "source": [
    "## SOLUTION NO - 14"
   ]
  },
  {
   "cell_type": "code",
   "execution_count": 36,
   "id": "0851edde-054c-4718-83da-b3c6b503f965",
   "metadata": {},
   "outputs": [
    {
     "name": "stdout",
     "output_type": "stream",
     "text": [
      "Maximum element in the 2D list: 9\n"
     ]
    }
   ],
   "source": [
    "# Define a 2D list\n",
    "matrix = [[1, 2, 3], [4, 5, 6], [7, 8, 9]]\n",
    "\n",
    "# Initialize a variable to store the maximum element\n",
    "max_element = float(\"-inf\")\n",
    "\n",
    "# Using a nested for loop to iterate over each element in the 2D list\n",
    "for row in matrix:\n",
    "    for element in row:\n",
    "        if element > max_element:\n",
    "            max_element = element\n",
    "\n",
    "# Print the maximum element\n",
    "print(\"Maximum element in the 2D list:\", max_element)\n"
   ]
  },
  {
   "cell_type": "code",
   "execution_count": 27,
   "id": "f70c2372-5b7e-4ee8-8f33-685505f9bbfa",
   "metadata": {},
   "outputs": [],
   "source": [
    "## SOLUTION NO - 15"
   ]
  },
  {
   "cell_type": "code",
   "execution_count": 37,
   "id": "aa18398b-af2d-4f17-b8da-f4d1db4f6d82",
   "metadata": {},
   "outputs": [
    {
     "name": "stdout",
     "output_type": "stream",
     "text": [
      "List after removing all occurrences of 2 : [1, 3, 4, 5, 6, 7, 8, 9]\n"
     ]
    }
   ],
   "source": [
    "# Define a list\n",
    "numbers = [1, 2, 3, 4, 5, 2, 6, 7, 2, 8, 9]\n",
    "\n",
    "# Define the element to remove\n",
    "element_to_remove = 2\n",
    "\n",
    "# Using a for loop to iterate over each element in the list\n",
    "# and remove the specified element\n",
    "for _ in range(numbers.count(element_to_remove)):\n",
    "    numbers.remove(element_to_remove)\n",
    "\n",
    "# Print the list after removing the specified element\n",
    "print(\"List after removing all occurrences of\", element_to_remove, \":\", numbers)\n"
   ]
  },
  {
   "cell_type": "code",
   "execution_count": 28,
   "id": "5ae7d49a-0e9f-438b-be2b-3c43d3ddc0a1",
   "metadata": {},
   "outputs": [],
   "source": [
    "## SOLUTION NO - 16"
   ]
  },
  {
   "cell_type": "code",
   "execution_count": 38,
   "id": "6fea5be9-6e1b-4467-b5a2-d9d62c20577b",
   "metadata": {},
   "outputs": [
    {
     "name": "stdout",
     "output_type": "stream",
     "text": [
      "1 x 1 = 1\n",
      "1 x 2 = 2\n",
      "1 x 3 = 3\n",
      "1 x 4 = 4\n",
      "1 x 5 = 5\n",
      "1 x 6 = 6\n",
      "1 x 7 = 7\n",
      "1 x 8 = 8\n",
      "1 x 9 = 9\n",
      "1 x 10 = 10\n",
      "\n",
      "2 x 1 = 2\n",
      "2 x 2 = 4\n",
      "2 x 3 = 6\n",
      "2 x 4 = 8\n",
      "2 x 5 = 10\n",
      "2 x 6 = 12\n",
      "2 x 7 = 14\n",
      "2 x 8 = 16\n",
      "2 x 9 = 18\n",
      "2 x 10 = 20\n",
      "\n",
      "3 x 1 = 3\n",
      "3 x 2 = 6\n",
      "3 x 3 = 9\n",
      "3 x 4 = 12\n",
      "3 x 5 = 15\n",
      "3 x 6 = 18\n",
      "3 x 7 = 21\n",
      "3 x 8 = 24\n",
      "3 x 9 = 27\n",
      "3 x 10 = 30\n",
      "\n",
      "4 x 1 = 4\n",
      "4 x 2 = 8\n",
      "4 x 3 = 12\n",
      "4 x 4 = 16\n",
      "4 x 5 = 20\n",
      "4 x 6 = 24\n",
      "4 x 7 = 28\n",
      "4 x 8 = 32\n",
      "4 x 9 = 36\n",
      "4 x 10 = 40\n",
      "\n",
      "5 x 1 = 5\n",
      "5 x 2 = 10\n",
      "5 x 3 = 15\n",
      "5 x 4 = 20\n",
      "5 x 5 = 25\n",
      "5 x 6 = 30\n",
      "5 x 7 = 35\n",
      "5 x 8 = 40\n",
      "5 x 9 = 45\n",
      "5 x 10 = 50\n",
      "\n"
     ]
    }
   ],
   "source": [
    "# Using a nested for loop to generate the multiplication table\n",
    "for i in range(1, 6):\n",
    "    for j in range(1, 11):\n",
    "        print(i, \"x\", j, \"=\", i * j)\n",
    "    print()  # Print an empty line after each table\n"
   ]
  },
  {
   "cell_type": "code",
   "execution_count": 29,
   "id": "01da3c18-46ea-495d-a654-f4bb14392e0f",
   "metadata": {},
   "outputs": [],
   "source": [
    "## SOLUTION NO - 17"
   ]
  },
  {
   "cell_type": "code",
   "execution_count": 39,
   "id": "e3d8a2c8-0e8e-4274-a03b-8dd1db36d60a",
   "metadata": {},
   "outputs": [
    {
     "name": "stdout",
     "output_type": "stream",
     "text": [
      "32 Fahrenheit is equal to 0.0 Celsius\n",
      "68 Fahrenheit is equal to 20.0 Celsius\n",
      "100 Fahrenheit is equal to 37.77777777777778 Celsius\n",
      "212 Fahrenheit is equal to 100.0 Celsius\n"
     ]
    }
   ],
   "source": [
    "# Define a list of Fahrenheit temperatures\n",
    "fahrenheit_temps = [32, 68, 100, 212]\n",
    "\n",
    "# Using a for loop to iterate over each temperature and convert it to Celsius\n",
    "for temp in fahrenheit_temps:\n",
    "    celsius = (temp - 32) * 5 / 9\n",
    "    print(temp, \"Fahrenheit is equal to\", celsius, \"Celsius\")\n"
   ]
  },
  {
   "cell_type": "code",
   "execution_count": 30,
   "id": "7099371d-2888-47b8-8786-f6ea27e2181c",
   "metadata": {},
   "outputs": [],
   "source": [
    "## SOLUTION NO - 18"
   ]
  },
  {
   "cell_type": "code",
   "execution_count": 40,
   "id": "d31e0af5-870c-40c2-aff6-cc301f1b7edd",
   "metadata": {},
   "outputs": [
    {
     "name": "stdout",
     "output_type": "stream",
     "text": [
      "Common elements: [3, 4, 5]\n"
     ]
    }
   ],
   "source": [
    "# Define two lists\n",
    "list1 = [1, 2, 3, 4, 5]\n",
    "list2 = [3, 4, 5, 6, 7]\n",
    "\n",
    "# Using a for loop to iterate over each element in the first list\n",
    "# and check if it is present in the second list\n",
    "common_elements = []\n",
    "for num in list1:\n",
    "    if num in list2:\n",
    "        common_elements.append(num)\n",
    "\n",
    "# Print the common elements\n",
    "print(\"Common elements:\", common_elements)\n"
   ]
  },
  {
   "cell_type": "code",
   "execution_count": 31,
   "id": "396a7727-1711-48b1-bc79-77ca83bd5bd9",
   "metadata": {},
   "outputs": [],
   "source": [
    "## SOLUTION NO - 19"
   ]
  },
  {
   "cell_type": "code",
   "execution_count": 41,
   "id": "4f5ea739-c4fd-4e62-93f8-889d1399a60f",
   "metadata": {},
   "outputs": [
    {
     "name": "stdout",
     "output_type": "stream",
     "text": [
      "* \n",
      "* * \n",
      "* * * \n",
      "* * * * \n",
      "* * * * * \n"
     ]
    }
   ],
   "source": [
    "# Define the number of rows for the triangle\n",
    "rows = 5\n",
    "\n",
    "# Using a for loop to iterate over each row\n",
    "for i in range(1, rows + 1):\n",
    "    for j in range(1, i + 1):\n",
    "        print(\"*\", end=\" \")\n",
    "    print()\n"
   ]
  },
  {
   "cell_type": "code",
   "execution_count": 32,
   "id": "0e71575e-0812-45bd-833f-74963bb61ec1",
   "metadata": {},
   "outputs": [],
   "source": [
    "## SOLUTION NO - 20"
   ]
  },
  {
   "cell_type": "code",
   "execution_count": 42,
   "id": "5e9492ac-e76d-42a1-b31b-29b40a4d7a0f",
   "metadata": {},
   "outputs": [
    {
     "name": "stdout",
     "output_type": "stream",
     "text": [
      "GCD of 36 and 48 is: 12\n"
     ]
    }
   ],
   "source": [
    "# Input the two numbers\n",
    "num1 = 36\n",
    "num2 = 48\n",
    "\n",
    "# Initialize the GCD to 1\n",
    "gcd = 1\n",
    "\n",
    "# Using a for loop to find the GCD\n",
    "for i in range(1, min(num1, num2) + 1):\n",
    "    if num1 % i == 0 and num2 % i == 0:\n",
    "        gcd = i\n",
    "\n",
    "# Print the GCD\n",
    "print(\"GCD of\", num1, \"and\", num2, \"is:\", gcd)\n"
   ]
  },
  {
   "cell_type": "markdown",
   "id": "9acf5c40-0d1a-43ae-8b2a-bba4335e7c1b",
   "metadata": {},
   "source": [
    "Advanced Level"
   ]
  },
  {
   "cell_type": "code",
   "execution_count": 44,
   "id": "89a55967-8cbf-4384-b0a2-cfc70c0ea936",
   "metadata": {},
   "outputs": [],
   "source": [
    "## SOLUTION NO - 21"
   ]
  },
  {
   "cell_type": "code",
   "execution_count": 54,
   "id": "ad6a493e-c755-4515-a46d-733bced3de2f",
   "metadata": {},
   "outputs": [
    {
     "name": "stdout",
     "output_type": "stream",
     "text": [
      "Sum of digits for each number: [6, 15, 24]\n"
     ]
    }
   ],
   "source": [
    "# Define a list of numbers\n",
    "numbers = [123, 456, 789]\n",
    "\n",
    "# Using list comprehension to calculate the sum of digits of each number\n",
    "sum_of_digits = [sum(int(digit) for digit in str(num)) for num in numbers]\n",
    "\n",
    "# Print the sum of digits for each number\n",
    "print(\"Sum of digits for each number:\", sum_of_digits)\n"
   ]
  },
  {
   "cell_type": "code",
   "execution_count": 45,
   "id": "dfb9cb51-c15d-4a5f-bed8-518209f61a0c",
   "metadata": {},
   "outputs": [],
   "source": [
    "## SOLUTION NO - 22"
   ]
  },
  {
   "cell_type": "code",
   "execution_count": 55,
   "id": "586ad8cc-4022-4c98-827b-787d61054924",
   "metadata": {},
   "outputs": [
    {
     "name": "stdout",
     "output_type": "stream",
     "text": [
      "Prime factors of 36 : [2, 3]\n"
     ]
    }
   ],
   "source": [
    "# Input the number\n",
    "number = 36\n",
    "\n",
    "# Using list comprehension to find the prime factors of the number\n",
    "prime_factors = [factor for factor in range(2, number + 1) if number % factor == 0 and all(factor % i != 0 for i in range(2, factor))]\n",
    "\n",
    "# Print the prime factors\n",
    "print(\"Prime factors of\", number, \":\", prime_factors)\n"
   ]
  },
  {
   "cell_type": "code",
   "execution_count": 46,
   "id": "f1d853a0-bc53-4936-97eb-ae8d29735a8c",
   "metadata": {},
   "outputs": [],
   "source": [
    "## SOLUTION NO - 23"
   ]
  },
  {
   "cell_type": "code",
   "execution_count": 56,
   "id": "22f90636-51d2-4c9a-b027-6d79a705ecc5",
   "metadata": {},
   "outputs": [
    {
     "name": "stdout",
     "output_type": "stream",
     "text": [
      "Unique elements: [1, 2, 3, 4, 5, 6, 7, 8]\n"
     ]
    }
   ],
   "source": [
    "# Define a list\n",
    "numbers = [1, 2, 3, 2, 4, 5, 3, 6, 7, 8]\n",
    "\n",
    "# Using list comprehension to extract unique elements\n",
    "unique_elements = list(set(numbers))\n",
    "\n",
    "# Print the unique elements\n",
    "print(\"Unique elements:\", unique_elements)\n"
   ]
  },
  {
   "cell_type": "code",
   "execution_count": 47,
   "id": "93e680c9-5ec3-45a8-838c-c931de8ff8e4",
   "metadata": {},
   "outputs": [],
   "source": [
    "## SOLUTION NO - 24"
   ]
  },
  {
   "cell_type": "code",
   "execution_count": 57,
   "id": "ff25f84d-d7a6-4fc8-8330-8a1fa1a83d8a",
   "metadata": {},
   "outputs": [
    {
     "name": "stdout",
     "output_type": "stream",
     "text": [
      "Palindromic numbers up to 100 : [1, 2, 3, 4, 5, 6, 7, 8, 9, 11, 22, 33, 44, 55, 66, 77, 88, 99]\n"
     ]
    }
   ],
   "source": [
    "# Define the limit\n",
    "limit = 100\n",
    "\n",
    "# Using list comprehension to generate palindromic numbers\n",
    "palindromic_numbers = [num for num in range(1, limit + 1) if str(num) == str(num)[::-1]]\n",
    "\n",
    "# Print the palindromic numbers\n",
    "print(\"Palindromic numbers up to\", limit, \":\", palindromic_numbers)\n"
   ]
  },
  {
   "cell_type": "code",
   "execution_count": 48,
   "id": "42df8ae6-2b5e-4d77-a9a7-6df73dfb02cc",
   "metadata": {},
   "outputs": [],
   "source": [
    "## SOLUTION NO - 25"
   ]
  },
  {
   "cell_type": "code",
   "execution_count": 58,
   "id": "005938a4-05fc-42d8-8ab7-e1042d77c151",
   "metadata": {},
   "outputs": [
    {
     "name": "stdout",
     "output_type": "stream",
     "text": [
      "Flattened list: [1, 2, 3, 4, 5, 6, 7, 8, 9]\n"
     ]
    }
   ],
   "source": [
    "# Define a nested list\n",
    "nested_list = [[1, 2, 3], [4, 5], [6, 7, 8, 9]]\n",
    "\n",
    "# Using list comprehension to flatten the nested list\n",
    "flattened_list = [element for sublist in nested_list for element in sublist]\n",
    "\n",
    "# Print the flattened list\n",
    "print(\"Flattened list:\", flattened_list)\n"
   ]
  },
  {
   "cell_type": "code",
   "execution_count": 49,
   "id": "cd09fb85-b36e-412e-8ad7-a68ae1f79d75",
   "metadata": {},
   "outputs": [],
   "source": [
    "## SOLUTION NO - 26"
   ]
  },
  {
   "cell_type": "code",
   "execution_count": 59,
   "id": "85b66ff1-7237-440e-93d9-6692fe2ac50c",
   "metadata": {},
   "outputs": [
    {
     "name": "stdout",
     "output_type": "stream",
     "text": [
      "Sum of even numbers: 20\n",
      "Sum of odd numbers: 25\n"
     ]
    }
   ],
   "source": [
    "# Define a list of numbers\n",
    "numbers = [1, 2, 3, 4, 5, 6, 7, 8, 9]\n",
    "\n",
    "# Using list comprehension to compute the sum of even and odd numbers separately\n",
    "sum_even_odd = [sum(num for num in numbers if num % 2 == 0), sum(num for num in numbers if num % 2 != 0)]\n",
    "\n",
    "# Print the sum of even and odd numbers separately\n",
    "print(\"Sum of even numbers:\", sum_even_odd[0])\n",
    "print(\"Sum of odd numbers:\", sum_even_odd[1])\n"
   ]
  },
  {
   "cell_type": "code",
   "execution_count": 50,
   "id": "dfff1531-8abd-4bac-9e62-25641733ad2c",
   "metadata": {},
   "outputs": [],
   "source": [
    "## SOLUTION NO - 27"
   ]
  },
  {
   "cell_type": "code",
   "execution_count": 60,
   "id": "c56facb5-6d80-4e8c-8852-69da13270e0a",
   "metadata": {},
   "outputs": [
    {
     "name": "stdout",
     "output_type": "stream",
     "text": [
      "Squares of odd numbers between 1 and 10: [1, 9, 25, 49, 81]\n"
     ]
    }
   ],
   "source": [
    "# Using list comprehension to generate squares of odd numbers\n",
    "squares_odd = [num ** 2 for num in range(1, 11) if num % 2 != 0]\n",
    "\n",
    "# Print the squares of odd numbers\n",
    "print(\"Squares of odd numbers between 1 and 10:\", squares_odd)\n"
   ]
  },
  {
   "cell_type": "code",
   "execution_count": 51,
   "id": "77e9881a-0399-4c07-b334-6e436a9da04e",
   "metadata": {},
   "outputs": [],
   "source": [
    "## SOLUTION NO - 28"
   ]
  },
  {
   "cell_type": "code",
   "execution_count": 61,
   "id": "92002ccf-cfc3-4c1c-9827-9542553adb0c",
   "metadata": {},
   "outputs": [
    {
     "name": "stdout",
     "output_type": "stream",
     "text": [
      "Combined dictionary: {'a': 1, 'b': 2, 'c': 3}\n"
     ]
    }
   ],
   "source": [
    "# Define two lists\n",
    "keys = ['a', 'b', 'c']\n",
    "values = [1, 2, 3]\n",
    "\n",
    "# Using list comprehension to combine the lists into a dictionary\n",
    "combined_dict = {keys[i]: values[i] for i in range(len(keys))}\n",
    "\n",
    "# Print the combined dictionary\n",
    "print(\"Combined dictionary:\", combined_dict)\n"
   ]
  },
  {
   "cell_type": "code",
   "execution_count": 52,
   "id": "3c57e242-4fcb-4fc9-9a33-da542b6b1c3a",
   "metadata": {},
   "outputs": [],
   "source": [
    "## SOLUTION NO - 29"
   ]
  },
  {
   "cell_type": "code",
   "execution_count": 62,
   "id": "a6842ea4-1b13-4f39-a025-abfc5a66002e",
   "metadata": {},
   "outputs": [
    {
     "name": "stdout",
     "output_type": "stream",
     "text": [
      "Vowels: ['e', 'o', 'o']\n"
     ]
    }
   ],
   "source": [
    "# Define a string\n",
    "string = \"Hello, world!\"\n",
    "\n",
    "# Using list comprehension to extract vowels from the string\n",
    "vowels = [char for char in string if char.lower() in \"aeiou\"]\n",
    "\n",
    "# Print the vowels\n",
    "print(\"Vowels:\", vowels)\n"
   ]
  },
  {
   "cell_type": "code",
   "execution_count": 53,
   "id": "a1238609-0611-4d63-8807-ba6a6f3f1984",
   "metadata": {},
   "outputs": [],
   "source": [
    "## SOLUTION NO - 30"
   ]
  },
  {
   "cell_type": "code",
   "execution_count": 63,
   "id": "55f23a2b-0fca-4aaa-9ff0-4f517c420135",
   "metadata": {},
   "outputs": [
    {
     "name": "stdout",
     "output_type": "stream",
     "text": [
      "List after removing non-numeric characters: ['', '123', '456', '789']\n"
     ]
    }
   ],
   "source": [
    "# Define a list of strings\n",
    "strings = ['abc', '123', 'def456', '789ghi']\n",
    "\n",
    "# Using list comprehension to remove non-numeric characters\n",
    "numeric_strings = [\"\".join(char for char in string if char.isdigit()) for string in strings]\n",
    "\n",
    "# Print the list after removing non-numeric characters\n",
    "print(\"List after removing non-numeric characters:\", numeric_strings)\n"
   ]
  },
  {
   "cell_type": "markdown",
   "id": "cf6e085e-0ef6-4359-83e9-bd13f79fe18c",
   "metadata": {},
   "source": [
    "Challenge Level:"
   ]
  },
  {
   "cell_type": "code",
   "execution_count": 64,
   "id": "713ce72b-fcae-40ca-963e-f091fe72f86a",
   "metadata": {},
   "outputs": [],
   "source": [
    "## SOLUTION NO - 31"
   ]
  },
  {
   "cell_type": "code",
   "execution_count": 74,
   "id": "ee31d080-b69c-4d1c-82b5-78c1a1be8dd5",
   "metadata": {},
   "outputs": [
    {
     "name": "stdout",
     "output_type": "stream",
     "text": [
      "List of prime numbers up to 50 : [2, 3, 5, 7, 11, 13, 17, 19, 23, 29, 31, 37, 41, 43, 47]\n"
     ]
    }
   ],
   "source": [
    "# Input the limit\n",
    "limit = 50\n",
    "\n",
    "# Implementing Sieve of Eratosthenes algorithm using list comprehension\n",
    "primes = [num for num in range(2, limit + 1) if all(num % i != 0 for i in range(2, int(num**0.5) + 1))]\n",
    "\n",
    "# Print the list of prime numbers\n",
    "print(\"List of prime numbers up to\", limit, \":\", primes)\n"
   ]
  },
  {
   "cell_type": "code",
   "execution_count": 65,
   "id": "8ed63c3d-6f0b-414a-9885-52a24617c580",
   "metadata": {},
   "outputs": [],
   "source": [
    "## SOLUTION NO - 32"
   ]
  },
  {
   "cell_type": "code",
   "execution_count": 75,
   "id": "d7d54f4f-3ca3-4bb7-b3b6-4c590091fefd",
   "metadata": {},
   "outputs": [
    {
     "name": "stdout",
     "output_type": "stream",
     "text": [
      "List of Pythagorean triplets up to 20 : [(3, 4, 5), (6, 8, 10), (5, 12, 13), (9, 12, 15), (8, 15, 17), (12, 16, 20)]\n"
     ]
    }
   ],
   "source": [
    "# Input the limit\n",
    "limit = 20\n",
    "\n",
    "# Using list comprehension to generate Pythagorean triplets\n",
    "pythagorean_triplets = [(a, b, c) for c in range(1, limit + 1) for b in range(1, c) for a in range(1, b) if a**2 + b**2 == c**2]\n",
    "\n",
    "# Print the list of Pythagorean triplets\n",
    "print(\"List of Pythagorean triplets up to\", limit, \":\", pythagorean_triplets)\n"
   ]
  },
  {
   "cell_type": "code",
   "execution_count": 66,
   "id": "5d86901f-d691-4bb0-a4e9-f6fcc9486aa8",
   "metadata": {},
   "outputs": [],
   "source": [
    "## SOLUTION NO - 33"
   ]
  },
  {
   "cell_type": "code",
   "execution_count": 76,
   "id": "266783ed-636b-4e05-a811-c622aaa968cd",
   "metadata": {},
   "outputs": [
    {
     "name": "stdout",
     "output_type": "stream",
     "text": [
      "All possible combinations of two lists: [(1, 'a'), (1, 'b'), (1, 'c'), (2, 'a'), (2, 'b'), (2, 'c'), (3, 'a'), (3, 'b'), (3, 'c')]\n"
     ]
    }
   ],
   "source": [
    "# Define two lists\n",
    "list1 = [1, 2, 3]\n",
    "list2 = ['a', 'b', 'c']\n",
    "\n",
    "# Using list comprehension to generate all possible combinations\n",
    "combinations = [(x, y) for x in list1 for y in list2]\n",
    "\n",
    "# Print the list of combinations\n",
    "print(\"All possible combinations of two lists:\", combinations)\n"
   ]
  },
  {
   "cell_type": "code",
   "execution_count": 67,
   "id": "41aca513-b21d-48a6-99b7-0f6d7034f1f8",
   "metadata": {},
   "outputs": [],
   "source": [
    "## SOLUTION NO - 34"
   ]
  },
  {
   "cell_type": "code",
   "execution_count": 77,
   "id": "034f1727-1639-4ea4-80ab-9afe168ddd93",
   "metadata": {},
   "outputs": [
    {
     "name": "stdout",
     "output_type": "stream",
     "text": [
      "Mean: 5\n",
      "Median: 5.0\n",
      "Mode: 5\n"
     ]
    }
   ],
   "source": [
    "from statistics import mean, median, mode\n",
    "\n",
    "# Define a list of numbers\n",
    "numbers = [1, 2, 3, 4, 5, 5, 6, 7, 8, 9]\n",
    "\n",
    "# Using list comprehension to calculate mean, median, and mode\n",
    "mean_val = mean(numbers)\n",
    "median_val = median(numbers)\n",
    "mode_val = mode(numbers)\n",
    "\n",
    "# Print the mean, median, and mode\n",
    "print(\"Mean:\", mean_val)\n",
    "print(\"Median:\", median_val)\n",
    "print(\"Mode:\", mode_val)\n"
   ]
  },
  {
   "cell_type": "code",
   "execution_count": 68,
   "id": "0eea6c18-3d0e-4c38-8a9e-b94546298d02",
   "metadata": {},
   "outputs": [],
   "source": [
    "## SOLUTION NO - 35"
   ]
  },
  {
   "cell_type": "code",
   "execution_count": null,
   "id": "66a28230-0708-413c-8c48-d67d11b077fb",
   "metadata": {},
   "outputs": [],
   "source": [
    "# Input the number of rows\n",
    "rows = 5\n",
    "\n",
    "# Using list comprehension to generate Pascal's triangle\n",
    "triangle = [[1] + [triangle[row - 1][i] + triangle[row - 1][i + 1] for i in range(len(triangle[row - 1]) - 1)] + [1] if row > 0 else [1] for row in range(rows)]\n",
    "\n",
    "# Print Pascal's triangle\n",
    "for row in triangle:\n",
    "    print(row)\n"
   ]
  },
  {
   "cell_type": "code",
   "execution_count": 69,
   "id": "5c8fe751-ad41-4d60-b4ac-68a245fdaca9",
   "metadata": {},
   "outputs": [],
   "source": [
    "## SOLUTION NO - 36"
   ]
  },
  {
   "cell_type": "code",
   "execution_count": 85,
   "id": "939faac9-4464-48b4-9288-2d296628250c",
   "metadata": {},
   "outputs": [
    {
     "name": "stdout",
     "output_type": "stream",
     "text": [
      "Prime palindromic numbers up to 100 : [2, 3, 5, 7, 11]\n"
     ]
    }
   ],
   "source": [
    "# Define the limit\n",
    "limit = 100\n",
    "\n",
    "# Using list comprehension to generate prime palindromic numbers\n",
    "prime_palindromic_numbers = [num for num in range(2, limit + 1) if num == int(str(num)[::-1]) and all(num % i != 0 for i in range(2, int(num**0.5) + 1))]\n",
    "\n",
    "# Print the list of prime palindromic numbers\n",
    "print(\"Prime palindromic numbers up to\", limit, \":\", prime_palindromic_numbers)\n"
   ]
  },
  {
   "cell_type": "code",
   "execution_count": 70,
   "id": "edfc849c-d91d-46dc-8ddc-cf7a7a53e26d",
   "metadata": {},
   "outputs": [],
   "source": [
    "## SOLUTION NO - 37"
   ]
  },
  {
   "cell_type": "code",
   "execution_count": 81,
   "id": "26bac51d-59ec-4b82-96ea-634d4807270b",
   "metadata": {},
   "outputs": [
    {
     "name": "stdout",
     "output_type": "stream",
     "text": [
      "Longest word in the sentence: words\n"
     ]
    }
   ],
   "source": [
    "# Define a sentence\n",
    "sentence = \"Hello, this is a sentence containing some words\"\n",
    "\n",
    "# Using list comprehension to find the longest word\n",
    "longest_word = max(word.strip(\",.\") for word in sentence.split())\n",
    "\n",
    "# Print the longest word\n",
    "print(\"Longest word in the sentence:\", longest_word)\n"
   ]
  },
  {
   "cell_type": "code",
   "execution_count": 71,
   "id": "7db689a7-be85-4b51-bc81-132288bb2a9f",
   "metadata": {},
   "outputs": [],
   "source": [
    "## SOLUTION NO - 38"
   ]
  },
  {
   "cell_type": "code",
   "execution_count": 82,
   "id": "ecf309de-2f17-440e-bd0f-dad90e10ceb2",
   "metadata": {},
   "outputs": [
    {
     "name": "stdout",
     "output_type": "stream",
     "text": [
      "Strings with more than three vowels: []\n"
     ]
    }
   ],
   "source": [
    "# Define a list of strings\n",
    "strings = [\"hello\", \"world\", \"python\", \"programming\", \"example\", \"vowel\"]\n",
    "\n",
    "# Using list comprehension to filter strings with more than three vowels\n",
    "filtered_strings = [string for string in strings if sum(1 for char in string if char.lower() in \"aeiou\") > 3]\n",
    "\n",
    "# Print the filtered list of strings\n",
    "print(\"Strings with more than three vowels:\", filtered_strings)\n"
   ]
  },
  {
   "cell_type": "code",
   "execution_count": 72,
   "id": "ce9ac6e7-f32b-431b-94ba-87ab246ff610",
   "metadata": {},
   "outputs": [],
   "source": [
    "## SOLUTION NO - 39"
   ]
  },
  {
   "cell_type": "code",
   "execution_count": 83,
   "id": "a4c68450-bdb7-448b-9f1c-0dd6e03d04bb",
   "metadata": {},
   "outputs": [
    {
     "name": "stdout",
     "output_type": "stream",
     "text": [
      "Sum of digits of numbers from 1 to 1000: 13501\n"
     ]
    }
   ],
   "source": [
    "# Using list comprehension to calculate the sum of digits of numbers from 1 to 1000\n",
    "sum_of_digits = [sum(int(digit) for digit in str(num)) for num in range(1, 1001)]\n",
    "\n",
    "# Print the sum of digits\n",
    "print(\"Sum of digits of numbers from 1 to 1000:\", sum(sum_of_digits))\n"
   ]
  },
  {
   "cell_type": "code",
   "execution_count": 73,
   "id": "1de7062e-fa63-40de-86b9-fbd32f57b08b",
   "metadata": {},
   "outputs": [],
   "source": [
    "## SOLUTION NO - 40"
   ]
  },
  {
   "cell_type": "code",
   "execution_count": 84,
   "id": "7888fbfd-7fdd-412b-8cdb-197a89b94894",
   "metadata": {},
   "outputs": [
    {
     "name": "stdout",
     "output_type": "stream",
     "text": [
      "Prime palindromic numbers up to 100 : [2, 3, 5, 7, 11]\n"
     ]
    }
   ],
   "source": [
    "# Define the limit\n",
    "limit = 100\n",
    "\n",
    "# Using list comprehension to generate prime palindromic numbers\n",
    "prime_palindromic_numbers = [num for num in range(2, limit + 1) if num == int(str(num)[::-1]) and all(num % i != 0 for i in range(2, int(num**0.5) + 1))]\n",
    "\n",
    "# Print the list of prime palindromic numbers\n",
    "print(\"Prime palindromic numbers up to\", limit, \":\", prime_palindromic_numbers)\n"
   ]
  },
  {
   "cell_type": "code",
   "execution_count": null,
   "id": "8249ae5b-ac1f-4b21-8cfe-02bec7309566",
   "metadata": {},
   "outputs": [],
   "source": []
  }
 ],
 "metadata": {
  "kernelspec": {
   "display_name": "Python 3 (ipykernel)",
   "language": "python",
   "name": "python3"
  },
  "language_info": {
   "codemirror_mode": {
    "name": "ipython",
    "version": 3
   },
   "file_extension": ".py",
   "mimetype": "text/x-python",
   "name": "python",
   "nbconvert_exporter": "python",
   "pygments_lexer": "ipython3",
   "version": "3.10.8"
  }
 },
 "nbformat": 4,
 "nbformat_minor": 5
}
